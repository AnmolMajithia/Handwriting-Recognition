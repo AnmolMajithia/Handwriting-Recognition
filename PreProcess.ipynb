{
 "cells": [
  {
   "cell_type": "markdown",
   "metadata": {},
   "source": [
    "### Image preprocessing for CNN Model"
   ]
  },
  {
   "cell_type": "code",
   "execution_count": 83,
   "metadata": {},
   "outputs": [],
   "source": [
    "import cv2\n",
    "import matplotlib.pyplot as plt\n",
    "from pdf2image import convert_from_path\n",
    "import numpy as np"
   ]
  },
  {
   "cell_type": "code",
   "execution_count": 84,
   "metadata": {},
   "outputs": [],
   "source": [
    "def removeLine(image):\n",
    "    #image = cv2.imread(path)\n",
    "    gray = cv2.cvtColor(image,cv2.COLOR_BGR2GRAY)\n",
    "    thresh = cv2.threshold(gray, 0, 255, cv2.THRESH_BINARY_INV + cv2.THRESH_OTSU)[1]\n",
    "\n",
    "    # Remove horizontal\n",
    "    horizontal_kernel = cv2.getStructuringElement(cv2.MORPH_RECT, (25,1))\n",
    "    detected_lines = cv2.morphologyEx(thresh, cv2.MORPH_OPEN, horizontal_kernel, iterations=2)\n",
    "    cnts = cv2.findContours(detected_lines, cv2.RETR_EXTERNAL, cv2.CHAIN_APPROX_SIMPLE)\n",
    "    cnts = cnts[0] if len(cnts) == 2 else cnts[1]\n",
    "    for c in cnts:\n",
    "        cv2.drawContours(image, [c], -1, (255,255,255), 2)\n",
    "\n",
    "    # Repair image\n",
    "    repair_kernel = cv2.getStructuringElement(cv2.MORPH_RECT, (1,6))\n",
    "    result = 255 - cv2.morphologyEx(255 - image, cv2.MORPH_CLOSE, repair_kernel, iterations=1)\n",
    "    \n",
    "    global i\n",
    "    print('Reached :',i)\n",
    "    # plt.imshow(thresh)\n",
    "    # plt.imshow(detected_lines)\n",
    "    # plt.imshow(image)\n",
    "    cv2.imwrite('data/preprocess/'+str(i)+'.png',result)\n",
    "    i+=1\n",
    "    return result"
   ]
  },
  {
   "cell_type": "code",
   "execution_count": 85,
   "metadata": {},
   "outputs": [],
   "source": [
    "def boundingBoxes(contours, ary):\n",
    "    c_info = []\n",
    "    for c in contours:\n",
    "        x,y,w,h = cv2.boundingRect(c)\n",
    "        c_im = np.zeros(ary.shape)\n",
    "        cv2.drawContours(c_im, [c], 0, 255, -1)\n",
    "        c_info.append({\n",
    "            'x1': x,\n",
    "            'y1': y,\n",
    "            'x2': x + w - 1,\n",
    "            'y2': y + h - 1,\n",
    "#             'sum': np.sum(ary * (c_im > 0))/255\n",
    "        })\n",
    "    return c_info"
   ]
  },
  {
   "cell_type": "code",
   "execution_count": 95,
   "metadata": {},
   "outputs": [],
   "source": [
    "def segmenter(im):\n",
    "    im = np.array(im)\n",
    "    \n",
    "    copy = cv2.cvtColor(im, cv2.COLOR_BGR2GRAY)\n",
    "    edges = cv2.Canny(copy, 100, 200)\n",
    "    \n",
    "    rfkernel = np.ones((25,25),np.float32)/625\n",
    "    rf = cv2.filter2D(edges,-1,rfkernel)\n",
    "    \n",
    "    ret,thresh1 = cv2.threshold(rf,48,255,cv2.THRESH_BINARY)    \n",
    "    dkernel = np.ones((5,5), np.uint8)\n",
    "#     erode = cv2.erode(thresh1, dkernel, iterations = 1)\n",
    "    dialate = cv2.dilate(thresh1, dkernel, iterations=5)\n",
    "    \n",
    "    contours, hierarchy = cv2.findContours(dialate, cv2.RETR_TREE, cv2.CHAIN_APPROX_SIMPLE)\n",
    "    boxes = boundingBoxes(contours, dialate)\n",
    "    rect = im\n",
    "    for b in boxes:\n",
    "        x1,y1,x2,y2 = b['x1'],b['y1'],b['x2'],b['y2']\n",
    "        rect = cv2.rectangle(rect,(x1,y1),(x2,y2),(0,0,255),1)\n",
    "    \n",
    "    cv2.imwrite('data/preprocess/edge-'+str(i)+'.png',edges)\n",
    "    cv2.imwrite('data/preprocess/rf-'+str(i)+'.png',rf)\n",
    "    cv2.imwrite('data/preprocess/dia-'+str(i)+'.png',dialate)\n",
    "#     cv2.imwrite('data/preprocess/ero-'+str(i)+'.png',erode)\n",
    "    cv2.imwrite('data/preprocess/thresh-'+str(i)+'.png',thresh1)\n",
    "    cv2.imwrite('data/preprocess/rect-'+str(i)+'.png',rect)\n",
    "    removeLine(im)"
   ]
  },
  {
   "cell_type": "code",
   "execution_count": 96,
   "metadata": {},
   "outputs": [],
   "source": [
    "def pdfToImage(path):\n",
    "    images = convert_from_path(path)\n",
    "    segmenter(images[0])\n",
    "#     for i in images:\n",
    "#         segmenter(i)"
   ]
  },
  {
   "cell_type": "code",
   "execution_count": 97,
   "metadata": {},
   "outputs": [
    {
     "name": "stdout",
     "output_type": "stream",
     "text": [
      "Reached : 1\n"
     ]
    }
   ],
   "source": [
    "i = 1\n",
    "im = pdfToImage('data/convert.pdf')"
   ]
  },
  {
   "cell_type": "code",
   "execution_count": null,
   "metadata": {},
   "outputs": [],
   "source": []
  }
 ],
 "metadata": {
  "kernelspec": {
   "display_name": "Python 3",
   "language": "python",
   "name": "python3"
  },
  "language_info": {
   "codemirror_mode": {
    "name": "ipython",
    "version": 3
   },
   "file_extension": ".py",
   "mimetype": "text/x-python",
   "name": "python",
   "nbconvert_exporter": "python",
   "pygments_lexer": "ipython3",
   "version": "3.7.7"
  }
 },
 "nbformat": 4,
 "nbformat_minor": 4
}
